{
 "cells": [
  {
   "cell_type": "code",
   "execution_count": 1,
   "id": "c33652e3-5a03-4659-a262-83196a614d20",
   "metadata": {},
   "outputs": [],
   "source": [
    "import concurrent.futures\n",
    "import collections\n",
    "import math\n",
    "import os\n",
    "import pathlib\n",
    "import random\n",
    "import re\n",
    "import string\n",
    "import time\n",
    "\n",
    "import einops\n",
    "import matplotlib.pyplot as plt\n",
    "import numpy as np\n",
    "import pandas as pd\n",
    "from PIL import Image\n",
    "import tqdm\n",
    "\n",
    "import tensorflow as tf\n",
    "import tensorflow_hub as hub\n",
    "import tensorflow_text as text\n",
    "import tensorflow_datasets as tfds"
   ]
  },
  {
   "cell_type": "code",
   "execution_count": 2,
   "id": "7ad9eac2-2482-4b8a-a047-5327cf7af825",
   "metadata": {},
   "outputs": [],
   "source": [
    "def flickr8k():\n",
    "    path = pathlib.Path.cwd()\n",
    "    \n",
    "    if len(list(path.rglob('*'))) < 16197:\n",
    "        tf.keras.utils.get_file(\n",
    "            origin='https://github.com/jbrownlee/Datasets/releases/download/Flickr8k/Flickr8k_Dataset.zip',\n",
    "            cache_dir=path,\n",
    "            cache_subdir='datasets',\n",
    "            extract=True)\n",
    "        tf.keras.utils.get_file(\n",
    "            origin='https://github.com/jbrownlee/Datasets/releases/download/Flickr8k/Flickr8k_text.zip',\n",
    "            cache_dir=path,\n",
    "            cache_subdir='datasets',\n",
    "            extract=True)\n",
    "    \n",
    "    captions = (path/\"Flickr8k.token.txt\").read_text().splitlines()\n",
    "    captions = (line.split('\\t') for line in captions)\n",
    "    captions = ((fname.split('#')[0], caption) for (fname, caption) in captions)\n",
    "    \n",
    "    cap_dict = collections.defaultdict(list)\n",
    "    for fname, cap in captions:\n",
    "        cap_dict[fname].append(cap)\n",
    "\n",
    "    path = str(path) + '\\\\datasets'\n",
    "    \n",
    "    train_files = (path/'Flickr_8k.trainImages.txt').read_text().splitlines()\n",
    "    train_captions = [(str(path/'Flicker8k.Dataset'/fname), cap_dict[fname]) for fname in train_files]\n",
    "    \n",
    "    test_files = (path/'Flickr_8k.testImages.txt').read_text().splitlines()\n",
    "    test_captions = [(str(path/'Flicker8k.Dataset'/fname), cap_dict[fname]) for fname in test_files]\n",
    "    \n",
    "    train_ds = tf.data.experimental.from_list(train_captions)\n",
    "    test_ds = tf.data.experimental.from_list(test_captions)\n",
    "    \n",
    "    return train_ds, test_ds"
   ]
  },
  {
   "cell_type": "code",
   "execution_count": null,
   "id": "02140ec0-653a-44c0-9eaa-012628c91b87",
   "metadata": {},
   "outputs": [
    {
     "name": "stdout",
     "output_type": "stream",
     "text": [
      "Downloading data from https://github.com/jbrownlee/Datasets/releases/download/Flickr8k/Flickr8k_Dataset.zip\n",
      " 932585472/1115419746 [========================>.....] - ETA: 1:58"
     ]
    }
   ],
   "source": [
    "train_raw, test_raw = flickr8k()"
   ]
  },
  {
   "cell_type": "code",
   "execution_count": null,
   "id": "abd09b85-adc3-4809-892e-af03c085ca73",
   "metadata": {},
   "outputs": [],
   "source": [
    "for ex_path, ex_captions in train_raw.take(1):\n",
    "    print(ex_path)\n",
    "    print(ex_captions)"
   ]
  }
 ],
 "metadata": {
  "kernelspec": {
   "display_name": "Python 3 (ipykernel)",
   "language": "python",
   "name": "python3"
  },
  "language_info": {
   "codemirror_mode": {
    "name": "ipython",
    "version": 3
   },
   "file_extension": ".py",
   "mimetype": "text/x-python",
   "name": "python",
   "nbconvert_exporter": "python",
   "pygments_lexer": "ipython3",
   "version": "3.9.19"
  }
 },
 "nbformat": 4,
 "nbformat_minor": 5
}
